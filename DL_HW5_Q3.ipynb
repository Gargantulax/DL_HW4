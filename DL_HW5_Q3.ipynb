{
  "nbformat": 4,
  "nbformat_minor": 0,
  "metadata": {
    "colab": {
      "provenance": [],
      "gpuType": "T4"
    },
    "kernelspec": {
      "name": "python3",
      "display_name": "Python 3"
    },
    "language_info": {
      "name": "python"
    },
    "accelerator": "GPU"
  },
  "cells": [
    {
      "cell_type": "code",
      "source": [
        "!pip install -qU transformers"
      ],
      "metadata": {
        "id": "FhkOXxfjKhyi"
      },
      "execution_count": 2,
      "outputs": []
    },
    {
      "cell_type": "code",
      "source": [
        "import pandas as pd\n",
        "import numpy as np\n",
        "\n",
        "from tqdm import tqdm\n",
        "from pathlib import Path\n",
        "\n",
        "import torch\n",
        "from transformers import AutoTokenizer, AutoConfig, AutoModelWithLMHead\n",
        "from transformers import AutoTokenizer, GPT2LMHeadModel, GPT2Config\n",
        "\n",
        "from IPython import display"
      ],
      "metadata": {
        "id": "5mOHROx5QDPz"
      },
      "execution_count": 3,
      "outputs": []
    },
    {
      "cell_type": "code",
      "source": [
        "ferdousi = 'ferdousi.txt'\n",
        "beyts = []\n",
        "\n",
        "with open(ferdousi, 'r') as file:\n",
        "    # Read the file line by line\n",
        "    mesras = file.readlines()\n",
        "\n",
        "    # Iterate through pairs of lines and join them with a tab\n",
        "    for i in range(0, len(mesras), 2):\n",
        "        # Ensure there's a pair of lines to join\n",
        "        if i + 1 < len(mesras):\n",
        "            # Join the lines with a tab and store in the new list\n",
        "            joined_line = mesras[i].strip() + \"<sep>\" + mesras[i+1].strip()\n",
        "            beyts.append(joined_line)\n",
        "beyts.pop(0)"
      ],
      "metadata": {
        "colab": {
          "base_uri": "https://localhost:8080/",
          "height": 36
        },
        "id": "eJqSEEFoLvBP",
        "outputId": "4f890517-f384-44f5-fd2b-adfa97ecfb36"
      },
      "execution_count": 13,
      "outputs": [
        {
          "output_type": "execute_result",
          "data": {
            "text/plain": [
              "'ferdousi.txt<sep>number of beyts:\\t49609'"
            ],
            "application/vnd.google.colaboratory.intrinsic+json": {
              "type": "string"
            }
          },
          "metadata": {},
          "execution_count": 13
        }
      ]
    },
    {
      "cell_type": "code",
      "source": [
        "print(beyts[0])"
      ],
      "metadata": {
        "colab": {
          "base_uri": "https://localhost:8080/"
        },
        "id": "sA3IOUP5Navt",
        "outputId": "71ac497f-ff42-468f-82c4-4ba4635f1d35"
      },
      "execution_count": 14,
      "outputs": [
        {
          "output_type": "stream",
          "name": "stdout",
          "text": [
            "به نام خداوند جان و خرد<sep>کزین برتر اندیشه برنگذرد\n"
          ]
        }
      ]
    },
    {
      "cell_type": "code",
      "source": [
        "model_name_or_path = \"HooshvareLab/gpt2-fa\"\n",
        "\n",
        "tokenizer = AutoTokenizer.from_pretrained(\n",
        "    model_name_or_path,\n",
        "    bos_token='<s>',\n",
        "    eos_token='</s>',\n",
        "    pad_token='<pad>',\n",
        "    unk_token='<unk>'\n",
        ")\n",
        "tokenizer.add_special_tokens({\n",
        "    \"bos_token\": '</s>',\n",
        "    \"eos_token\": '</s>',\n",
        "    \"pad_token\": '<pad>',\n",
        "    \"unk_token\": '<unk>'\n",
        "})\n",
        "\n",
        "config = AutoConfig.from_pretrained(\n",
        "    model_name_or_path,\n",
        "    bos_token_id=tokenizer(\"<s>\")[\"input_ids\"][0],\n",
        "    eos_token_id=tokenizer(\"</s>\")[\"input_ids\"][0],\n",
        "    pad_token_id=tokenizer(\"<pad>\")[\"input_ids\"][0],\n",
        "    unk_token_id=tokenizer(\"<unk>\")[\"input_ids\"][0],\n",
        ")\n",
        "\n",
        "tokenizer.save_pretrained(\"/content/gpt2/\")\n",
        "config.save_pretrained(\"/content/gpt2/\")\n",
        "\n",
        "!wget \"https://huggingface.co/HooshvareLab/gpt2-fa/resolve/main/pytorch_model.bin\" -P /content/gpt2/\n",
        "!wget \"https://huggingface.co/HooshvareLab/gpt2-fa/resolve/main/tokenizer.json\" -P /content/gpt2/"
      ],
      "metadata": {
        "colab": {
          "base_uri": "https://localhost:8080/"
        },
        "id": "wGLjpXhdOl8m",
        "outputId": "0f2c4f23-b2cf-490f-93ad-44bb26a356ae"
      },
      "execution_count": 6,
      "outputs": [
        {
          "output_type": "stream",
          "name": "stderr",
          "text": [
            "/usr/local/lib/python3.10/dist-packages/huggingface_hub/utils/_token.py:88: UserWarning: \n",
            "The secret `HF_TOKEN` does not exist in your Colab secrets.\n",
            "To authenticate with the Hugging Face Hub, create a token in your settings tab (https://huggingface.co/settings/tokens), set it as secret in your Google Colab and restart your session.\n",
            "You will be able to reuse this secret in all of your notebooks.\n",
            "Please note that authentication is recommended but still optional to access public models or datasets.\n",
            "  warnings.warn(\n"
          ]
        },
        {
          "output_type": "stream",
          "name": "stdout",
          "text": [
            "--2024-01-22 01:07:28--  https://huggingface.co/HooshvareLab/gpt2-fa/resolve/main/pytorch_model.bin\n",
            "Resolving huggingface.co (huggingface.co)... 18.164.174.118, 18.164.174.23, 18.164.174.17, ...\n",
            "Connecting to huggingface.co (huggingface.co)|18.164.174.118|:443... connected.\n",
            "HTTP request sent, awaiting response... 302 Found\n",
            "Location: https://cdn-lfs.huggingface.co/HooshvareLab/gpt2-fa/46b0b806c740a0f0a9f056f5574c5fa896166fe844945fd3c849bf34365e5060?response-content-disposition=attachment%3B+filename*%3DUTF-8%27%27pytorch_model.bin%3B+filename%3D%22pytorch_model.bin%22%3B&response-content-type=application%2Foctet-stream&Expires=1706144848&Policy=eyJTdGF0ZW1lbnQiOlt7IkNvbmRpdGlvbiI6eyJEYXRlTGVzc1RoYW4iOnsiQVdTOkVwb2NoVGltZSI6MTcwNjE0NDg0OH19LCJSZXNvdXJjZSI6Imh0dHBzOi8vY2RuLWxmcy5odWdnaW5nZmFjZS5jby9Ib29zaHZhcmVMYWIvZ3B0Mi1mYS80NmIwYjgwNmM3NDBhMGYwYTlmMDU2ZjU1NzRjNWZhODk2MTY2ZmU4NDQ5NDVmZDNjODQ5YmYzNDM2NWU1MDYwP3Jlc3BvbnNlLWNvbnRlbnQtZGlzcG9zaXRpb249KiZyZXNwb25zZS1jb250ZW50LXR5cGU9KiJ9XX0_&Signature=EVz5ttfZfV784aZwOBMoxHDpf39vfaZwrhNj8BQgmUmP63ZcV71-qJ-KizfDQ8cmvM91-nProp3txWMea5OpgxzANZtPe82gDQC5oLjvNnjCXGhJn8QEFYs0nEFDBvBAgbMuR%7ENk88DHI5VND1TJePTIQit5cRCcdgIc99T8nwwJiRFwqEsCNL1Ost6IlOmleSjYg0-kjNSIup3NZmQDfwvyWxwnLbNwUYDBjuFReQP81zoFFC-KmQw-St7kl0hlyMddfcAEk8UyGUxvh3qY2QdEPZyryLI-11DY7d87fMF2jCMnwQCPiCPVeo50MZzQhqjDTU6lV3FlFv-ZiNjZOA__&Key-Pair-Id=KVTP0A1DKRTAX [following]\n",
            "--2024-01-22 01:07:29--  https://cdn-lfs.huggingface.co/HooshvareLab/gpt2-fa/46b0b806c740a0f0a9f056f5574c5fa896166fe844945fd3c849bf34365e5060?response-content-disposition=attachment%3B+filename*%3DUTF-8%27%27pytorch_model.bin%3B+filename%3D%22pytorch_model.bin%22%3B&response-content-type=application%2Foctet-stream&Expires=1706144848&Policy=eyJTdGF0ZW1lbnQiOlt7IkNvbmRpdGlvbiI6eyJEYXRlTGVzc1RoYW4iOnsiQVdTOkVwb2NoVGltZSI6MTcwNjE0NDg0OH19LCJSZXNvdXJjZSI6Imh0dHBzOi8vY2RuLWxmcy5odWdnaW5nZmFjZS5jby9Ib29zaHZhcmVMYWIvZ3B0Mi1mYS80NmIwYjgwNmM3NDBhMGYwYTlmMDU2ZjU1NzRjNWZhODk2MTY2ZmU4NDQ5NDVmZDNjODQ5YmYzNDM2NWU1MDYwP3Jlc3BvbnNlLWNvbnRlbnQtZGlzcG9zaXRpb249KiZyZXNwb25zZS1jb250ZW50LXR5cGU9KiJ9XX0_&Signature=EVz5ttfZfV784aZwOBMoxHDpf39vfaZwrhNj8BQgmUmP63ZcV71-qJ-KizfDQ8cmvM91-nProp3txWMea5OpgxzANZtPe82gDQC5oLjvNnjCXGhJn8QEFYs0nEFDBvBAgbMuR%7ENk88DHI5VND1TJePTIQit5cRCcdgIc99T8nwwJiRFwqEsCNL1Ost6IlOmleSjYg0-kjNSIup3NZmQDfwvyWxwnLbNwUYDBjuFReQP81zoFFC-KmQw-St7kl0hlyMddfcAEk8UyGUxvh3qY2QdEPZyryLI-11DY7d87fMF2jCMnwQCPiCPVeo50MZzQhqjDTU6lV3FlFv-ZiNjZOA__&Key-Pair-Id=KVTP0A1DKRTAX\n",
            "Resolving cdn-lfs.huggingface.co (cdn-lfs.huggingface.co)... 18.154.206.17, 18.154.206.28, 18.154.206.4, ...\n",
            "Connecting to cdn-lfs.huggingface.co (cdn-lfs.huggingface.co)|18.154.206.17|:443... connected.\n",
            "HTTP request sent, awaiting response... 200 OK\n",
            "Length: 485044198 (463M) [application/octet-stream]\n",
            "Saving to: ‘/content/gpt2/pytorch_model.bin.1’\n",
            "\n",
            "pytorch_model.bin.1 100%[===================>] 462.57M  74.4MB/s    in 5.3s    \n",
            "\n",
            "2024-01-22 01:07:34 (86.9 MB/s) - ‘/content/gpt2/pytorch_model.bin.1’ saved [485044198/485044198]\n",
            "\n",
            "--2024-01-22 01:07:34--  https://huggingface.co/HooshvareLab/gpt2-fa/resolve/main/tokenizer.json\n",
            "Resolving huggingface.co (huggingface.co)... 18.164.174.118, 18.164.174.23, 18.164.174.17, ...\n",
            "Connecting to huggingface.co (huggingface.co)|18.164.174.118|:443... connected.\n",
            "HTTP request sent, awaiting response... 200 OK\n",
            "Length: 2748949 (2.6M) [text/plain]\n",
            "Saving to: ‘/content/gpt2/tokenizer.json.2’\n",
            "\n",
            "tokenizer.json.2    100%[===================>]   2.62M  13.3MB/s    in 0.2s    \n",
            "\n",
            "2024-01-22 01:07:34 (13.3 MB/s) - ‘/content/gpt2/tokenizer.json.2’ saved [2748949/2748949]\n",
            "\n"
          ]
        }
      ]
    },
    {
      "cell_type": "code",
      "source": [
        "tokenizer = AutoTokenizer.from_pretrained(\n",
        "    \"/content/gpt2\",\n",
        "    bos_token='<s>',\n",
        "    eos_token='</s>',\n",
        "    pad_token='<pad>'\n",
        ")\n",
        "\n",
        "print(tokenizer.encode(\"سلام بر شما\"))\n",
        "print(tokenizer.encode(\"<s>\"))\n",
        "print(tokenizer.encode(\"</s>\"))\n",
        "print(tokenizer.encode(\"<pad>\"))\n",
        "print(tokenizer.encode(\"<|startoftext|>\"))\n",
        "print(tokenizer.encode(\"<sep>\"))"
      ],
      "metadata": {
        "colab": {
          "base_uri": "https://localhost:8080/"
        },
        "id": "4v3vIKjUQwbw",
        "outputId": "12d49a16-0af6-46c2-f3cc-88e6cb63e672"
      },
      "execution_count": 7,
      "outputs": [
        {
          "output_type": "stream",
          "name": "stdout",
          "text": [
            "[8906, 327, 512]\n",
            "[0]\n",
            "[2]\n",
            "[1]\n",
            "[6]\n",
            "[9]\n"
          ]
        }
      ]
    },
    {
      "cell_type": "code",
      "source": [
        "max_seq = max([len(tokenizer.encode(text)) for text in beyts])\n",
        "\n",
        "print(f'The longest text is {max_seq} tokens long.')"
      ],
      "metadata": {
        "colab": {
          "base_uri": "https://localhost:8080/"
        },
        "id": "0RZ8931lSEYW",
        "outputId": "37a84b1b-a0c6-4d2f-e881-3a69fc56af55"
      },
      "execution_count": 15,
      "outputs": [
        {
          "output_type": "stream",
          "name": "stdout",
          "text": [
            "The longest text is 23 tokens long.\n"
          ]
        }
      ]
    },
    {
      "cell_type": "code",
      "source": [
        "from torch.utils.data import Dataset  # this is the pytorch class import\n",
        "import torch\n",
        "\n",
        "class MTGDataset(Dataset):\n",
        "\n",
        "    def __init__(self, txt, tokenizer, max_length=1024):\n",
        "\n",
        "        self.tokenizer = tokenizer\n",
        "        self.input_ids = []\n",
        "        self.attn_masks = []\n",
        "\n",
        "        for i in range(0, len(txt), 2):\n",
        "            input_encodings_dict = tokenizer('<s>' + txt[i] + '<sep>' + txt[i+1] + '</s>',\n",
        "                                       truncation=True,\n",
        "                                       max_length=max_length,\n",
        "                                       padding=\"max_length\")\n",
        "\n",
        "            self.input_ids.append(torch.tensor(input_encodings_dict['input_ids']))\n",
        "            self.attn_masks.append(torch.tensor(input_encodings_dict['attention_mask']))\n",
        "\n",
        "    def __len__(self):\n",
        "        return len(self.input_ids)\n",
        "\n",
        "    def __getitem__(self, idx):\n",
        "        return self.input_ids[idx], self.attn_masks[idx]"
      ],
      "metadata": {
        "id": "4sbdEMoGSUME"
      },
      "execution_count": 20,
      "outputs": []
    },
    {
      "cell_type": "code",
      "source": [
        "from torch.utils.data import random_split\n",
        "\n",
        "dataset = MTGDataset(beyts, tokenizer, max_length=2*max_seq+1)\n",
        "\n",
        "# Split into training and validation sets\n",
        "train_size = int(0.95 * len(dataset))\n",
        "val_size = len(dataset) - train_size\n",
        "train_dataset, val_dataset = random_split(dataset, [train_size, val_size])\n",
        "\n",
        "f'There are {len(train_dataset)} samples for training, and {len(val_dataset)} samples for validation testing'"
      ],
      "metadata": {
        "colab": {
          "base_uri": "https://localhost:8080/",
          "height": 36
        },
        "id": "br4inrhUS6iF",
        "outputId": "a7bc41cb-de01-4cc4-8a96-b477a59706a2"
      },
      "execution_count": 34,
      "outputs": [
        {
          "output_type": "execute_result",
          "data": {
            "text/plain": [
              "'There are 23563 samples for training, and 1241 samples for validation testing'"
            ],
            "application/vnd.google.colaboratory.intrinsic+json": {
              "type": "string"
            }
          },
          "metadata": {},
          "execution_count": 34
        }
      ]
    },
    {
      "cell_type": "code",
      "source": [
        "print(train_dataset[0][0])\n",
        "print(tokenizer.decode(train_dataset[0][0]))"
      ],
      "metadata": {
        "colab": {
          "base_uri": "https://localhost:8080/"
        },
        "id": "nKWTArwMfXUo",
        "outputId": "3a9d815f-5fcf-4c87-ea2d-df86006c0b08"
      },
      "execution_count": 35,
      "outputs": [
        {
          "output_type": "stream",
          "name": "stdout",
          "text": [
            "tensor([   0, 4994,  580, 1617,  323,  557, 5869,  976,    9,  479,  397, 3982,\n",
            "        8057, 1303,  429, 8057, 3195,    9,  319, 3079,  283,  394,  337, 1548,\n",
            "         868,  662, 5922,    9,  479,  463,  555, 4435,  629,  397,  995,  356,\n",
            "           2,    1,    1,    1,    1,    1,    1,    1,    1,    1,    1])\n",
            "<s>چنین داد پاسخ که بازآر هوش<sep>که من پور قیدافه ام قیدروش<sep>جزین دخت فریان مرا نیست جفت<sep>که دارد پس پردهٔ من نهفت</s><pad><pad><pad><pad><pad><pad><pad><pad><pad><pad>\n"
          ]
        }
      ]
    },
    {
      "cell_type": "code",
      "source": [
        "from torch.utils.data import DataLoader, RandomSampler, SequentialSampler\n",
        "\n",
        "train_dataloader = DataLoader(\n",
        "    train_dataset,\n",
        "    sampler=RandomSampler(train_dataset),\n",
        "    batch_size=8\n",
        ")\n",
        "\n",
        "validation_dataloader = DataLoader(\n",
        "    val_dataset,\n",
        "    sampler=SequentialSampler(val_dataset),\n",
        "    batch_size=8\n",
        ")"
      ],
      "metadata": {
        "id": "cXZ6ZxWIf9vD"
      },
      "execution_count": 36,
      "outputs": []
    },
    {
      "cell_type": "code",
      "source": [
        "import random\n",
        "from transformers import GPT2LMHeadModel, GPT2Config\n",
        "import numpy as np\n",
        "\n",
        "# Loading the model configuration and setting it to the GPT2 standard settings.\n",
        "configuration = GPT2Config.from_pretrained('./gpt2', output_hidden_states=False)\n",
        "\n",
        "# Create the instance of the model and set the token size embedding length\n",
        "model = GPT2LMHeadModel.from_pretrained(\"./gpt2\", config=configuration)\n",
        "model.resize_token_embeddings(len(tokenizer))\n",
        "\n",
        "# Tell pytorch to run this model on the GPU.\n",
        "device = torch.device(\"cuda\")\n",
        "# device = torch.device(\"cpu\")\n",
        "model.cuda()\n",
        "\n",
        "# This step is optional but will enable reproducible runs.\n",
        "seed_val = 42\n",
        "\n",
        "random.seed(seed_val)\n",
        "np.random.seed(seed_val)\n",
        "torch.manual_seed(seed_val)\n",
        "torch.cuda.manual_seed_all(seed_val)"
      ],
      "metadata": {
        "id": "Gw1O54vWgA7b"
      },
      "execution_count": 37,
      "outputs": []
    },
    {
      "cell_type": "code",
      "source": [
        "epochs = 3\n",
        "warmup_steps = 1e2\n",
        "sample_every = 300"
      ],
      "metadata": {
        "id": "NXizrmHegbLS"
      },
      "execution_count": 38,
      "outputs": []
    },
    {
      "cell_type": "code",
      "source": [
        "from transformers import AdamW\n",
        "\n",
        "optimizer = AdamW(\n",
        "    model.parameters(),\n",
        "    lr=5e-4,\n",
        "    eps=1e-8\n",
        ")"
      ],
      "metadata": {
        "colab": {
          "base_uri": "https://localhost:8080/"
        },
        "id": "Vdzw0qT7gfpF",
        "outputId": "54bd70e9-2d94-4298-a230-3e3a0b3488b9"
      },
      "execution_count": 39,
      "outputs": [
        {
          "output_type": "stream",
          "name": "stderr",
          "text": [
            "/usr/local/lib/python3.10/dist-packages/transformers/optimization.py:429: FutureWarning: This implementation of AdamW is deprecated and will be removed in a future version. Use the PyTorch implementation torch.optim.AdamW instead, or set `no_deprecation_warning=True` to disable this warning\n",
            "  warnings.warn(\n"
          ]
        }
      ]
    },
    {
      "cell_type": "code",
      "source": [
        "from transformers import get_linear_schedule_with_warmup\n",
        "\n",
        "total_steps = len(train_dataloader) * epochs\n",
        "scheduler = get_linear_schedule_with_warmup(\n",
        "    optimizer,\n",
        "    num_warmup_steps=warmup_steps,\n",
        "    num_training_steps=total_steps)"
      ],
      "metadata": {
        "id": "5M3GPv7CgnPs"
      },
      "execution_count": 40,
      "outputs": []
    },
    {
      "cell_type": "code",
      "source": [
        "sample_beyt = beyts[np.random.randint(0, len(beyts))]\n",
        "sample_input = '<s>' + sample_beyt + '<sep>'\n",
        "print(sample_input)\n",
        "sample_input_ids = torch.tensor(tokenizer([sample_input])[\"input_ids\"])\n",
        "sample_input_ids = sample_input_ids.to(device)\n",
        "\n",
        "sample_outputs = model.generate(\n",
        "    input_ids=sample_input_ids,\n",
        "    do_sample=True,\n",
        "    top_k=50,\n",
        "    max_length=50,\n",
        "    top_p=0.95,\n",
        "    num_return_sequences=1\n",
        ")\n",
        "for i, sample_output in enumerate(sample_outputs):\n",
        "    gen_sample_output = tokenizer.decode(sample_output, skip_special_tokens=False)\n",
        "    gen_sample_output = gen_sample_output.replace(\"<|startoftext|>\", \"\\n\")\n",
        "    gen_sample_output = gen_sample_output.replace(\"<s>\", \"\")\n",
        "    gen_sample_output = gen_sample_output.replace(\"</s>\", \"\")\n",
        "    gen_sample_output = gen_sample_output.replace(\"<sep>\", \"\\n\")\n",
        "\n",
        "    print(f'Example output: {gen_sample_output}')"
      ],
      "metadata": {
        "colab": {
          "base_uri": "https://localhost:8080/"
        },
        "id": "_3kODuijguqt",
        "outputId": "8873aa5d-be60-4961-a6b6-19a2b3b4f0c5"
      },
      "execution_count": 31,
      "outputs": [
        {
          "output_type": "stream",
          "name": "stdout",
          "text": [
            "<s>جوان گرچه دانا بود با گهر<sep>ابی آزمایش نگیرد هنر<sep>\n",
            "Example output: جوان گرچه دانا بود با گهر\n",
            "ابی آزمایش نگیرد هنر\n",
            "ک هنرپرور این مملکت را در کنار سایر اصناف قرار داد و به همین جهت وی تحت تأثیر اصناف دیگر نیز شد به همین جهت او را به شاگردی گماشتند و سپس به شاگردی پذیرفت\n"
          ]
        }
      ]
    },
    {
      "cell_type": "code",
      "source": [
        "import random\n",
        "import time\n",
        "import datetime\n",
        "from tqdm import tqdm\n",
        "\n",
        "\n",
        "def format_time(elapsed):\n",
        "    return str(datetime.timedelta(seconds=int(round((elapsed)))))\n",
        "\n",
        "\n",
        "total_t0 = time.time()\n",
        "\n",
        "training_stats = []\n",
        "\n",
        "model = model.to(device)\n",
        "\n",
        "for epoch_i in tqdm(range(0, epochs), position=0):\n",
        "\n",
        "    print(f'Beginning epoch {epoch_i + 1} of {epochs}')\n",
        "\n",
        "    t0 = time.time()\n",
        "\n",
        "    total_train_loss = 0\n",
        "\n",
        "    model.train()\n",
        "\n",
        "    for step, batch in tqdm(enumerate(train_dataloader), total=len(train_dataloader), position=0):\n",
        "\n",
        "        b_input_ids = batch[0].to(device)\n",
        "        b_labels = batch[0].to(device)\n",
        "        b_masks = batch[1].to(device)\n",
        "\n",
        "        model.zero_grad()\n",
        "\n",
        "        outputs = model(b_input_ids, labels=b_labels, attention_mask=b_masks, token_type_ids=None)\n",
        "\n",
        "        loss = outputs[0]\n",
        "\n",
        "        batch_loss = loss.item()\n",
        "        total_train_loss += batch_loss\n",
        "\n",
        "        # Get sample every 100 batches.\n",
        "        if step % sample_every == 0 and not step == 0:\n",
        "\n",
        "            elapsed = format_time(time.time() - t0)\n",
        "            print()\n",
        "            print(f'Batch {step} of {len(train_dataloader)}. Loss:{batch_loss}. Time:{elapsed}')\n",
        "\n",
        "            model.eval()\n",
        "\n",
        "            sample_beyt = beyts[np.random.randint(0, len(beyts))]\n",
        "            sample_input = '<s>' + sample_beyt + '<sep>'\n",
        "            sample_input_ids = torch.tensor(tokenizer([sample_input])[\"input_ids\"])\n",
        "            sample_input_ids = sample_input_ids.to(device)\n",
        "\n",
        "            sample_outputs = model.generate(\n",
        "                input_ids=sample_input_ids,\n",
        "                do_sample=True,\n",
        "                top_k=50,\n",
        "                max_length=50,\n",
        "                top_p=0.95,\n",
        "                num_return_sequences=1\n",
        "            )\n",
        "            for i, sample_output in enumerate(sample_outputs):\n",
        "                gen_sample_output = tokenizer.decode(sample_output, skip_special_tokens=False)\n",
        "                gen_sample_output = gen_sample_output.replace(\"<s>\", \"\\n\")\n",
        "                gen_sample_output = gen_sample_output.replace(\"</s>\", \"\")\n",
        "                # gen_sample_output = gen_sample_output.replace(\"<pad>\", \"\")\n",
        "                gen_sample_output = gen_sample_output.replace(\"<sep>\", \"\\n\")\n",
        "\n",
        "                print(f'Example output: {gen_sample_output}')\n",
        "\n",
        "            model.train()\n",
        "\n",
        "        loss.backward()\n",
        "        optimizer.step()\n",
        "        scheduler.step()\n",
        "\n",
        "    # Calculate the average loss over all of the batches.\n",
        "    avg_train_loss = total_train_loss / len(train_dataloader)\n",
        "\n",
        "    # Measure how long this epoch took.\n",
        "    training_time = format_time(time.time() - t0)\n",
        "\n",
        "    print()\n",
        "    print(f'Average Training Loss: {avg_train_loss}. Epoch time: {training_time}')\n",
        "    print()\n",
        "\n",
        "    t0 = time.time()\n",
        "\n",
        "    model.eval()\n",
        "\n",
        "    total_eval_loss = 0\n",
        "    nb_eval_steps = 0\n",
        "\n",
        "    # Evaluate data for one epoch\n",
        "    for batch in tqdm(validation_dataloader, total=len(validation_dataloader), position=0):\n",
        "\n",
        "        b_input_ids = batch[0].to(device)\n",
        "        b_labels = batch[0].to(device)\n",
        "        b_masks = batch[1].to(device)\n",
        "\n",
        "        with torch.no_grad():\n",
        "\n",
        "            outputs = model(b_input_ids, attention_mask=b_masks, labels=b_labels)\n",
        "\n",
        "            loss = outputs[0]\n",
        "\n",
        "        batch_loss = loss.item()\n",
        "        total_eval_loss += batch_loss\n",
        "\n",
        "    avg_val_loss = total_eval_loss / len(validation_dataloader)\n",
        "\n",
        "    validation_time = format_time(time.time() - t0)\n",
        "\n",
        "    print()\n",
        "    print(f'Validation loss: {avg_val_loss}. Validation Time: {validation_time}')\n",
        "    print()\n",
        "\n",
        "    # Record all statistics from this epoch.\n",
        "    training_stats.append(\n",
        "        {\n",
        "            'epoch': epoch_i + 1,\n",
        "            'Training Loss': avg_train_loss,\n",
        "            'Valid. Loss': avg_val_loss,\n",
        "            'Training Time': training_time,\n",
        "            'Validation Time': validation_time\n",
        "        }\n",
        "    )\n",
        "\n",
        "print(f'Total training took {format_time(time.time()-total_t0)}')"
      ],
      "metadata": {
        "colab": {
          "base_uri": "https://localhost:8080/"
        },
        "id": "Uwo1YQqGhrEL",
        "outputId": "ed950335-5df0-440b-ed56-917b57b1c5ee"
      },
      "execution_count": 41,
      "outputs": [
        {
          "output_type": "stream",
          "name": "stderr",
          "text": [
            "\r  0%|          | 0/3 [00:00<?, ?it/s]"
          ]
        },
        {
          "output_type": "stream",
          "name": "stdout",
          "text": [
            "Beginning epoch 1 of 3\n"
          ]
        },
        {
          "output_type": "stream",
          "name": "stderr",
          "text": [
            " 10%|█         | 300/2946 [00:40<06:02,  7.30it/s]"
          ]
        },
        {
          "output_type": "stream",
          "name": "stdout",
          "text": [
            "\n",
            "Batch 300 of 2946. Loss:3.4717423915863037. Time:0:00:40\n"
          ]
        },
        {
          "output_type": "stream",
          "name": "stderr",
          "text": [
            " 10%|█         | 302/2946 [00:40<08:04,  5.46it/s]"
          ]
        },
        {
          "output_type": "stream",
          "name": "stdout",
          "text": [
            "Example output: \n",
            "جوان گرچه دانا بود با گهر\n",
            "ابی آزمایش نگیرد هنر\n",
            "به نزدیک او کسی کو ببیند سخن\n",
            "همه شهر ایران همی بردش\n",
            "بکوشیم بجایی\n"
          ]
        },
        {
          "output_type": "stream",
          "name": "stderr",
          "text": [
            " 20%|██        | 600/2946 [01:20<05:07,  7.62it/s]"
          ]
        },
        {
          "output_type": "stream",
          "name": "stdout",
          "text": [
            "\n",
            "Batch 600 of 2946. Loss:3.227830410003662. Time:0:01:21\n",
            "Example output: \n",
            "ببستند یارانش یکسر کمر\n",
            "همیدون به دریا نهادند سر\n",
            "وزان جایگه برنشست اسپ کشید\n",
            "بمان برشاه گفت آفرین\n"
          ]
        },
        {
          "output_type": "stream",
          "name": "stderr",
          "text": [
            " 31%|███       | 900/2946 [02:00<04:33,  7.49it/s]"
          ]
        },
        {
          "output_type": "stream",
          "name": "stdout",
          "text": [
            "\n",
            "Batch 900 of 2946. Loss:2.935476779937744. Time:0:02:01\n"
          ]
        },
        {
          "output_type": "stream",
          "name": "stderr",
          "text": [
            " 31%|███       | 902/2946 [02:01<06:21,  5.35it/s]"
          ]
        },
        {
          "output_type": "stream",
          "name": "stdout",
          "text": [
            "Example output: \n",
            "نوندی ز گفتار کارآگهان\n",
            "بیامد به نزدیک شاه جهان\n",
            "بیامد بر تختش چو مهتری\n",
            "بیاورد و دینار و زریر و تختش به کف\n"
          ]
        },
        {
          "output_type": "stream",
          "name": "stderr",
          "text": [
            " 41%|████      | 1200/2946 [02:41<03:55,  7.41it/s]"
          ]
        },
        {
          "output_type": "stream",
          "name": "stdout",
          "text": [
            "\n",
            "Batch 1200 of 2946. Loss:2.987724542617798. Time:0:02:41\n"
          ]
        },
        {
          "output_type": "stream",
          "name": "stderr",
          "text": [
            " 41%|████      | 1202/2946 [02:41<05:37,  5.17it/s]"
          ]
        },
        {
          "output_type": "stream",
          "name": "stdout",
          "text": [
            "Example output: \n",
            "سرانجام اگر راه جویی بداد\n",
            "هیونی برافگن بکردار باد\n",
            "بجای آوریدند بر خویشتن\n",
            "نه از بهر گاه اندرین و ز بهر خویشتن\n"
          ]
        },
        {
          "output_type": "stream",
          "name": "stderr",
          "text": [
            " 51%|█████     | 1500/2946 [03:21<03:15,  7.41it/s]"
          ]
        },
        {
          "output_type": "stream",
          "name": "stdout",
          "text": [
            "\n",
            "Batch 1500 of 2946. Loss:2.4718098640441895. Time:0:03:21\n"
          ]
        },
        {
          "output_type": "stream",
          "name": "stderr",
          "text": [
            " 51%|█████     | 1502/2946 [03:21<04:46,  5.05it/s]"
          ]
        },
        {
          "output_type": "stream",
          "name": "stdout",
          "text": [
            "Example output: \n",
            "بسی آفرین کرد بر شهریار\n",
            "بدان شادمان گردش روزگار\n",
            "که در بارگاهش بود شهریار\n",
            "بدو گفت رستم که ای شاه کرد\n",
            "سپهبد ز اندازه وز راه کرد\n"
          ]
        },
        {
          "output_type": "stream",
          "name": "stderr",
          "text": [
            " 61%|██████    | 1800/2946 [04:01<02:31,  7.54it/s]"
          ]
        },
        {
          "output_type": "stream",
          "name": "stdout",
          "text": [
            "\n",
            "Batch 1800 of 2946. Loss:2.476565361022949. Time:0:04:02\n"
          ]
        },
        {
          "output_type": "stream",
          "name": "stderr",
          "text": [
            " 61%|██████    | 1802/2946 [04:02<03:19,  5.73it/s]"
          ]
        },
        {
          "output_type": "stream",
          "name": "stdout",
          "text": [
            "Example output: \n",
            "برانگیزم از گاه کاووس را\n",
            "از ایران ببرم پی طوس را\n",
            "که لشکر بیامد سوی مرز روم\n",
            "بشد دست و پای اندر افگند بوم\n"
          ]
        },
        {
          "output_type": "stream",
          "name": "stderr",
          "text": [
            " 71%|███████▏  | 2100/2946 [04:41<01:51,  7.55it/s]"
          ]
        },
        {
          "output_type": "stream",
          "name": "stdout",
          "text": [
            "\n",
            "Batch 2100 of 2946. Loss:2.2309682369232178. Time:0:04:42\n"
          ]
        },
        {
          "output_type": "stream",
          "name": "stderr",
          "text": [
            " 71%|███████▏  | 2102/2946 [04:42<02:30,  5.62it/s]"
          ]
        },
        {
          "output_type": "stream",
          "name": "stdout",
          "text": [
            "Example output: \n",
            "سواران ز بس رنج و اسبان ز تگ\n",
            "یکی را بتن بر نجنبید رگ\n",
            "به زین بر سر نیزه و تیر و کمان\n",
            "همه پیش برفتند با او به هم\n"
          ]
        },
        {
          "output_type": "stream",
          "name": "stderr",
          "text": [
            " 81%|████████▏ | 2400/2946 [05:21<01:11,  7.61it/s]"
          ]
        },
        {
          "output_type": "stream",
          "name": "stdout",
          "text": [
            "\n",
            "Batch 2400 of 2946. Loss:2.698749303817749. Time:0:05:22\n",
            "Example output: \n",
            "بیامد بر تاجور سوفزای\n",
            "به دستوری بازگشتن به جای\n",
            "به نزدیک افراسیاب آمدند\n",
            "وزان جایگه و پیش افراسیاب آمدند\n"
          ]
        },
        {
          "output_type": "stream",
          "name": "stderr",
          "text": [
            " 92%|█████████▏| 2700/2946 [06:01<00:32,  7.54it/s]"
          ]
        },
        {
          "output_type": "stream",
          "name": "stdout",
          "text": [
            "\n",
            "Batch 2700 of 2946. Loss:2.35710072517395. Time:0:06:02\n",
            "Example output: \n",
            "ازان پس بران تیرگی بگذرم\n",
            "بخاک اندر آید سر و افسرم\n",
            "برو بر زمین آبنوس و سپاه\n",
            "نه هنگام گردان ایران و سپاه\n"
          ]
        },
        {
          "output_type": "stream",
          "name": "stderr",
          "text": [
            "100%|██████████| 2946/2946 [06:34<00:00,  7.46it/s]\n"
          ]
        },
        {
          "output_type": "stream",
          "name": "stdout",
          "text": [
            "\n",
            "Average Training Loss: 2.857088963676292. Epoch time: 0:06:35\n",
            "\n"
          ]
        },
        {
          "output_type": "stream",
          "name": "stderr",
          "text": [
            "100%|██████████| 156/156 [00:05<00:00, 29.99it/s]\n",
            " 33%|███▎      | 1/3 [06:39<13:19, 399.89s/it]"
          ]
        },
        {
          "output_type": "stream",
          "name": "stdout",
          "text": [
            "\n",
            "Validation loss: 2.4207422183110165. Validation Time: 0:00:05\n",
            "\n",
            "Beginning epoch 2 of 3\n"
          ]
        },
        {
          "output_type": "stream",
          "name": "stderr",
          "text": [
            " 10%|█         | 300/2946 [00:39<05:51,  7.52it/s]"
          ]
        },
        {
          "output_type": "stream",
          "name": "stdout",
          "text": [
            "\n",
            "Batch 300 of 2946. Loss:2.2563905715942383. Time:0:00:40\n"
          ]
        },
        {
          "output_type": "stream",
          "name": "stderr",
          "text": [
            " 10%|█         | 302/2946 [00:40<07:57,  5.54it/s]"
          ]
        },
        {
          "output_type": "stream",
          "name": "stdout",
          "text": [
            "Example output: \n",
            "ز گیتی برو بر کنند آفرین\n",
            "که بی تو مبادا زمان و زمین\n",
            "برآمد خروشیدن تیغ و کوس\n",
            "زبر زنگار و بوقار و آوای کوس\n"
          ]
        },
        {
          "output_type": "stream",
          "name": "stderr",
          "text": [
            " 20%|██        | 600/2946 [01:20<05:11,  7.52it/s]"
          ]
        },
        {
          "output_type": "stream",
          "name": "stdout",
          "text": [
            "\n",
            "Batch 600 of 2946. Loss:2.169152021408081. Time:0:01:20\n",
            "Example output: \n",
            "گنهکار یزدانی وناسپاس\n",
            "تن اندر نکوهش دل اندر هراس\n",
            "بگویش که بی کار باشد هنر\n",
            "نباشد برین روزگار هنر\n"
          ]
        },
        {
          "output_type": "stream",
          "name": "stderr",
          "text": [
            " 31%|███       | 900/2946 [02:00<04:34,  7.45it/s]"
          ]
        },
        {
          "output_type": "stream",
          "name": "stdout",
          "text": [
            "\n",
            "Batch 900 of 2946. Loss:2.4390268325805664. Time:0:02:01\n"
          ]
        },
        {
          "output_type": "stream",
          "name": "stderr",
          "text": [
            " 31%|███       | 902/2946 [02:01<06:26,  5.29it/s]"
          ]
        },
        {
          "output_type": "stream",
          "name": "stdout",
          "text": [
            "Example output: \n",
            "کنون چون زنان پیش من بسته دست\n",
            "همی خواب گویی به کردار مست\n",
            "مرا نیز چون خواب دشمن مدار\n",
            "به سر تا نیایم من او را به خار\n"
          ]
        },
        {
          "output_type": "stream",
          "name": "stderr",
          "text": [
            " 41%|████      | 1200/2946 [02:40<03:56,  7.39it/s]"
          ]
        },
        {
          "output_type": "stream",
          "name": "stdout",
          "text": [
            "\n",
            "Batch 1200 of 2946. Loss:2.2968883514404297. Time:0:02:41\n"
          ]
        },
        {
          "output_type": "stream",
          "name": "stderr",
          "text": [
            "\r 41%|████      | 1201/2946 [02:41<06:29,  4.48it/s]"
          ]
        },
        {
          "output_type": "stream",
          "name": "stdout",
          "text": [
            "Example output: \n",
            "چهارم چنین گفت شاه جهان\n",
            "ابا پیشکارش سخن درنهان\n",
            "که هرکس که این راز گویم\n",
            "به خواب اندرون شوربخت نویم\n"
          ]
        },
        {
          "output_type": "stream",
          "name": "stderr",
          "text": [
            " 51%|█████     | 1500/2946 [03:21<03:13,  7.49it/s]"
          ]
        },
        {
          "output_type": "stream",
          "name": "stdout",
          "text": [
            "\n",
            "Batch 1500 of 2946. Loss:2.2525954246520996. Time:0:03:21\n"
          ]
        },
        {
          "output_type": "stream",
          "name": "stderr",
          "text": [
            " 51%|█████     | 1502/2946 [03:21<04:13,  5.70it/s]"
          ]
        },
        {
          "output_type": "stream",
          "name": "stdout",
          "text": [
            "Example output: \n",
            "یکی داستان زد جهاندیده کی\n",
            "که مرد جوان چون بود نیک پی\n",
            "تو دانی که او پهلوانست و بس\n",
            "نباشم یکی پور دستان رس\n"
          ]
        },
        {
          "output_type": "stream",
          "name": "stderr",
          "text": [
            " 61%|██████    | 1800/2946 [04:01<02:32,  7.53it/s]"
          ]
        },
        {
          "output_type": "stream",
          "name": "stdout",
          "text": [
            "\n",
            "Batch 1800 of 2946. Loss:2.1622862815856934. Time:0:04:01\n",
            "Example output: \n",
            "نگوید سخن جز همه راستی\n",
            "نخواهد به داد اندرون کاستی\n",
            "اگر دین نباشد به ما دسترس\n",
            "ز کردار بد روی گردد دژم\n"
          ]
        },
        {
          "output_type": "stream",
          "name": "stderr",
          "text": [
            " 71%|███████▏  | 2100/2946 [04:41<01:52,  7.53it/s]"
          ]
        },
        {
          "output_type": "stream",
          "name": "stdout",
          "text": [
            "\n",
            "Batch 2100 of 2946. Loss:2.302199602127075. Time:0:04:42\n"
          ]
        },
        {
          "output_type": "stream",
          "name": "stderr",
          "text": [
            " 71%|███████▏  | 2102/2946 [04:41<02:29,  5.65it/s]"
          ]
        },
        {
          "output_type": "stream",
          "name": "stdout",
          "text": [
            "Example output: \n",
            "پرستنده گفتا چو فرمان دهی\n",
            "گذاریم تا کاخ سرو سهی\n",
            "در گنجهای کهن برگشاد\n",
            "نکردند خشک و در و درم یاد کرد\n"
          ]
        },
        {
          "output_type": "stream",
          "name": "stderr",
          "text": [
            " 81%|████████▏ | 2400/2946 [05:21<01:12,  7.50it/s]"
          ]
        },
        {
          "output_type": "stream",
          "name": "stdout",
          "text": [
            "\n",
            "Batch 2400 of 2946. Loss:2.083523750305176. Time:0:05:22\n"
          ]
        },
        {
          "output_type": "stream",
          "name": "stderr",
          "text": [
            " 82%|████████▏ | 2402/2946 [05:22<01:35,  5.71it/s]"
          ]
        },
        {
          "output_type": "stream",
          "name": "stdout",
          "text": [
            "Example output: \n",
            "ترا آشتی بهتر آید ز جنگ\n",
            "فراخی مکن بر دل خویش تنگ\n",
            "بدو گفت خاقان که بر انجمن\n",
            "نباشی همی کین و دل را شکن\n"
          ]
        },
        {
          "output_type": "stream",
          "name": "stderr",
          "text": [
            " 92%|█████████▏| 2700/2946 [06:01<00:32,  7.47it/s]"
          ]
        },
        {
          "output_type": "stream",
          "name": "stdout",
          "text": [
            "\n",
            "Batch 2700 of 2946. Loss:2.210679531097412. Time:0:06:02\n"
          ]
        },
        {
          "output_type": "stream",
          "name": "stderr",
          "text": [
            " 92%|█████████▏| 2702/2946 [06:02<00:43,  5.66it/s]"
          ]
        },
        {
          "output_type": "stream",
          "name": "stdout",
          "text": [
            "Example output: \n",
            "مبادا ز تو تخت پردخت و گاه\n",
            "مه این نامور خسروانی کلاه\n",
            "دگر گفت کز تخم کاوس کی\n",
            "نشاید به بد کردن آهنگ پی\n"
          ]
        },
        {
          "output_type": "stream",
          "name": "stderr",
          "text": [
            "100%|██████████| 2946/2946 [06:34<00:00,  7.46it/s]\n"
          ]
        },
        {
          "output_type": "stream",
          "name": "stdout",
          "text": [
            "\n",
            "Average Training Loss: 2.156007592765474. Epoch time: 0:06:35\n",
            "\n"
          ]
        },
        {
          "output_type": "stream",
          "name": "stderr",
          "text": [
            "100%|██████████| 156/156 [00:05<00:00, 29.93it/s]\n",
            " 67%|██████▋   | 2/3 [13:19<06:39, 400.00s/it]"
          ]
        },
        {
          "output_type": "stream",
          "name": "stdout",
          "text": [
            "\n",
            "Validation loss: 2.2436702809272666. Validation Time: 0:00:05\n",
            "\n",
            "Beginning epoch 3 of 3\n"
          ]
        },
        {
          "output_type": "stream",
          "name": "stderr",
          "text": [
            " 10%|█         | 300/2946 [00:40<05:52,  7.50it/s]"
          ]
        },
        {
          "output_type": "stream",
          "name": "stdout",
          "text": [
            "\n",
            "Batch 300 of 2946. Loss:1.5506917238235474. Time:0:00:40\n"
          ]
        },
        {
          "output_type": "stream",
          "name": "stderr",
          "text": [
            " 10%|█         | 302/2946 [00:40<07:43,  5.70it/s]"
          ]
        },
        {
          "output_type": "stream",
          "name": "stdout",
          "text": [
            "Example output: \n",
            "به تاراج داد آن همه خواسته\n",
            "زن و کودک و گنج آراسته\n",
            "به هر جای دشمن پراگنده شد\n",
            "به بدخواه بی راه آگنده شد\n"
          ]
        },
        {
          "output_type": "stream",
          "name": "stderr",
          "text": [
            " 20%|██        | 600/2946 [01:20<05:17,  7.38it/s]"
          ]
        },
        {
          "output_type": "stream",
          "name": "stdout",
          "text": [
            "\n",
            "Batch 600 of 2946. Loss:1.8692682981491089. Time:0:01:20\n"
          ]
        },
        {
          "output_type": "stream",
          "name": "stderr",
          "text": [
            " 20%|██        | 602/2946 [01:20<07:15,  5.38it/s]"
          ]
        },
        {
          "output_type": "stream",
          "name": "stdout",
          "text": [
            "Example output: \n",
            "سپاهش بکوه کنابد شود\n",
            "بجنگ اندرون دست ما بد شود\n",
            "بجنگ اندر آید بداد اندرون\n",
            "تو باید که باشی بجنگ اندرون\n"
          ]
        },
        {
          "output_type": "stream",
          "name": "stderr",
          "text": [
            " 31%|███       | 900/2946 [02:00<04:35,  7.43it/s]"
          ]
        },
        {
          "output_type": "stream",
          "name": "stdout",
          "text": [
            "\n",
            "Batch 900 of 2946. Loss:1.6974761486053467. Time:0:02:01\n"
          ]
        },
        {
          "output_type": "stream",
          "name": "stderr",
          "text": [
            " 31%|███       | 902/2946 [02:01<06:28,  5.27it/s]"
          ]
        },
        {
          "output_type": "stream",
          "name": "stdout",
          "text": [
            "Example output: \n",
            "ازان درد بگریست افراسیاب\n",
            "همی کند موی و همی ریخت آب\n",
            "چنان دید روشن که یزدان پاک\n",
            "نیایش همی کرد روشن به خاک\n"
          ]
        },
        {
          "output_type": "stream",
          "name": "stderr",
          "text": [
            " 41%|████      | 1200/2946 [02:40<03:52,  7.52it/s]"
          ]
        },
        {
          "output_type": "stream",
          "name": "stdout",
          "text": [
            "\n",
            "Batch 1200 of 2946. Loss:1.6534119844436646. Time:0:02:41\n"
          ]
        },
        {
          "output_type": "stream",
          "name": "stderr",
          "text": [
            " 41%|████      | 1202/2946 [02:41<05:10,  5.62it/s]"
          ]
        },
        {
          "output_type": "stream",
          "name": "stdout",
          "text": [
            "Example output: \n",
            "بفرمود تا زو بپرسند شاه\n",
            "که جام نبید از چه داری نگاه\n",
            "به رامش همی بود تا گاه شام\n",
            "به جام اندرون بانگ زد با سپاه\n"
          ]
        },
        {
          "output_type": "stream",
          "name": "stderr",
          "text": [
            " 51%|█████     | 1500/2946 [03:21<03:14,  7.45it/s]"
          ]
        },
        {
          "output_type": "stream",
          "name": "stdout",
          "text": [
            "\n",
            "Batch 1500 of 2946. Loss:1.805173635482788. Time:0:03:21\n",
            "Example output: \n",
            "ترا بهتر آید که فرمان کنی\n",
            "رخ نامور سوی توران کنی\n",
            "یکی گنج ویژه به من بر ببخش\n",
            "پرستنده بر دل نیاید به یاد\n"
          ]
        },
        {
          "output_type": "stream",
          "name": "stderr",
          "text": [
            " 61%|██████    | 1800/2946 [04:01<02:32,  7.50it/s]"
          ]
        },
        {
          "output_type": "stream",
          "name": "stdout",
          "text": [
            "\n",
            "Batch 1800 of 2946. Loss:1.702398419380188. Time:0:04:01\n",
            "Example output: \n",
            "ز تو دور شد فره و بخردی\n",
            "بیابی تو بادافره ایزدی\n",
            "ز شاهان ترا بی نیازی دهد\n",
            "بدانجا که بی نیازی دهد\n"
          ]
        },
        {
          "output_type": "stream",
          "name": "stderr",
          "text": [
            " 71%|███████▏  | 2100/2946 [04:41<01:52,  7.52it/s]"
          ]
        },
        {
          "output_type": "stream",
          "name": "stdout",
          "text": [
            "\n",
            "Batch 2100 of 2946. Loss:1.687252402305603. Time:0:04:42\n",
            "Example output: \n",
            "به گیتی نگر کین هنرها کراست\n",
            "چو دیدی ستایش مر او را سزاست\n",
            "خرد باید و راستی و فر\n",
            "خرد بادت آموزگار\n"
          ]
        },
        {
          "output_type": "stream",
          "name": "stderr",
          "text": [
            " 81%|████████▏ | 2400/2946 [05:21<01:12,  7.57it/s]"
          ]
        },
        {
          "output_type": "stream",
          "name": "stdout",
          "text": [
            "\n",
            "Batch 2400 of 2946. Loss:1.6775894165039062. Time:0:05:22\n"
          ]
        },
        {
          "output_type": "stream",
          "name": "stderr",
          "text": [
            " 82%|████████▏ | 2402/2946 [05:21<01:35,  5.72it/s]"
          ]
        },
        {
          "output_type": "stream",
          "name": "stdout",
          "text": [
            "Example output: \n",
            "به طرخان چنین گفت کای سرفراز\n",
            "برو تیز با لشکری رزمساز\n",
            "چه دیدی چو گودرز پیش سپاه\n",
            "چرا رنجه کردی مرا راه و راه\n"
          ]
        },
        {
          "output_type": "stream",
          "name": "stderr",
          "text": [
            " 92%|█████████▏| 2700/2946 [06:01<00:32,  7.51it/s]"
          ]
        },
        {
          "output_type": "stream",
          "name": "stdout",
          "text": [
            "\n",
            "Batch 2700 of 2946. Loss:1.7671623229980469. Time:0:06:02\n"
          ]
        },
        {
          "output_type": "stream",
          "name": "stderr",
          "text": [
            " 92%|█████████▏| 2702/2946 [06:02<00:42,  5.72it/s]"
          ]
        },
        {
          "output_type": "stream",
          "name": "stdout",
          "text": [
            "Example output: \n",
            "همی زور و بخت از جهاندار دید\n",
            "وز آن گردش بخت بیدار دید\n",
            "خروش آمد و نالهٔ کرنای\n",
            "تو گفتی به آتش برافروخت جای\n"
          ]
        },
        {
          "output_type": "stream",
          "name": "stderr",
          "text": [
            "100%|██████████| 2946/2946 [06:34<00:00,  7.47it/s]\n"
          ]
        },
        {
          "output_type": "stream",
          "name": "stdout",
          "text": [
            "\n",
            "Average Training Loss: 1.673177032185831. Epoch time: 0:06:35\n",
            "\n"
          ]
        },
        {
          "output_type": "stream",
          "name": "stderr",
          "text": [
            "100%|██████████| 156/156 [00:05<00:00, 29.97it/s]\n",
            "100%|██████████| 3/3 [19:59<00:00, 399.94s/it]"
          ]
        },
        {
          "output_type": "stream",
          "name": "stdout",
          "text": [
            "\n",
            "Validation loss: 2.251039817547187. Validation Time: 0:00:05\n",
            "\n",
            "Total training took 0:20:00\n"
          ]
        },
        {
          "output_type": "stream",
          "name": "stderr",
          "text": [
            "\n"
          ]
        }
      ]
    },
    {
      "cell_type": "code",
      "source": [
        "import seaborn as sns\n",
        "import matplotlib.pyplot as plt\n",
        "%matplotlib inline\n",
        "\n",
        "df_stats = pd.DataFrame(data=training_stats)\n",
        "df_stats = df_stats.set_index('epoch')\n",
        "\n",
        "# Use plot styling from seaborn.\n",
        "sns.set(style='darkgrid')\n",
        "\n",
        "# Increase the plot size and font size.\n",
        "sns.set(font_scale=1.5)\n",
        "plt.rcParams[\"figure.figsize\"] = (12,6)\n",
        "\n",
        "# Plot the learning curve.\n",
        "plt.plot(df_stats['Training Loss'], 'b-o', label=\"Training\")\n",
        "plt.plot(df_stats['Valid. Loss'], 'g-o', label=\"Validation\")\n",
        "\n",
        "# Label the plot.\n",
        "plt.title(\"Training & Validation Loss\")\n",
        "plt.xlabel(\"Epoch\")\n",
        "plt.ylabel(\"Loss\")\n",
        "plt.legend()\n",
        "plt.xticks([1, 2, 3, 4])\n",
        "\n",
        "plt.show()"
      ],
      "metadata": {
        "colab": {
          "base_uri": "https://localhost:8080/",
          "height": 592
        },
        "id": "1vGY2FI10otQ",
        "outputId": "9933c050-d497-4e8f-d080-ab8c28080012"
      },
      "execution_count": 43,
      "outputs": [
        {
          "output_type": "display_data",
          "data": {
            "text/plain": [
              "<Figure size 1200x600 with 1 Axes>"
            ],
            "image/png": "[encoded data removed]"
          },
          "metadata": {}
        }
      ]
    },
    {
      "cell_type": "code",
      "source": [
        "import os\n",
        "\n",
        "output_dir = '/content/gpt2-fa-ferdousi'\n",
        "os.makedirs(output_dir, exist_ok=True)\n",
        "\n",
        "model.save_pretrained(output_dir)\n",
        "tokenizer.save_pretrained(output_dir)\n",
        "configuration.save_pretrained(output_dir)\n",
        "!cp /content/gpt2/tokenizer.json /content/gpt2-fa-ferdousi/"
      ],
      "metadata": {
        "id": "Nr6sUGxV00uZ"
      },
      "execution_count": 44,
      "outputs": []
    },
    {
      "cell_type": "code",
      "source": [
        "!zip -r gpt2-fa-ferdousi.zip gpt2-fa-ferdousi"
      ],
      "metadata": {
        "colab": {
          "base_uri": "https://localhost:8080/"
        },
        "id": "LTka3oVP1XEU",
        "outputId": "e07b4f5b-2dc4-45dc-f9ae-22dc23b89f09"
      },
      "execution_count": 45,
      "outputs": [
        {
          "output_type": "stream",
          "name": "stdout",
          "text": [
            "  adding: gpt2-fa-ferdousi/ (stored 0%)\n",
            "  adding: gpt2-fa-ferdousi/added_tokens.json (stored 0%)\n",
            "  adding: gpt2-fa-ferdousi/model.safetensors (deflated 7%)\n",
            "  adding: gpt2-fa-ferdousi/tokenizer.json (deflated 79%)\n",
            "  adding: gpt2-fa-ferdousi/special_tokens_map.json (deflated 79%)\n",
            "  adding: gpt2-fa-ferdousi/merges.txt (deflated 74%)\n",
            "  adding: gpt2-fa-ferdousi/vocab.json (deflated 73%)\n",
            "  adding: gpt2-fa-ferdousi/config.json (deflated 51%)\n",
            "  adding: gpt2-fa-ferdousi/tokenizer_config.json (deflated 85%)\n",
            "  adding: gpt2-fa-ferdousi/generation_config.json (deflated 28%)\n"
          ]
        }
      ]
    },
    {
      "cell_type": "code",
      "source": [
        "from google.colab import drive\n",
        "drive.mount('/content/drive')\n",
        "!cp gpt2-fa-ferdousi.zip /content/drive/MyDrive"
      ],
      "metadata": {
        "colab": {
          "base_uri": "https://localhost:8080/"
        },
        "id": "nPmJFzaW1ZhU",
        "outputId": "0e7f3eeb-5f43-4391-dc76-ccc24ebdee25"
      },
      "execution_count": 46,
      "outputs": [
        {
          "output_type": "stream",
          "name": "stdout",
          "text": [
            "Mounted at /content/drive\n"
          ]
        }
      ]
    },
    {
      "cell_type": "code",
      "source": [
        "model.eval()\n",
        "\n",
        "for i in range(20):\n",
        "    sample_beyt = beyts[np.random.randint(0, len(beyts))]\n",
        "    sample_input = '<s>' + sample_beyt + '<sep>'\n",
        "    sample_input_ids = torch.tensor(tokenizer([sample_input])[\"input_ids\"])\n",
        "    sample_input_ids = sample_input_ids.to(device)\n",
        "\n",
        "    sample_outputs = model.generate(\n",
        "        input_ids=sample_input_ids,\n",
        "        do_sample=True,\n",
        "        top_k=50,\n",
        "        max_length=50,\n",
        "        top_p=0.95,\n",
        "        num_return_sequences=1\n",
        "    )\n",
        "    for i, sample_output in enumerate(sample_outputs):\n",
        "        gen_sample_output = tokenizer.decode(sample_output, skip_special_tokens=False)\n",
        "        gen_sample_output = gen_sample_output.replace(\"<s>\", \"\\n\")\n",
        "        gen_sample_output = gen_sample_output.replace(\"</s>\", \"\")\n",
        "        # gen_sample_output = gen_sample_output.replace(\"<pad>\", \"\")\n",
        "        gen_sample_output = gen_sample_output.replace(\"<sep>\", \"\\n\")\n",
        "\n",
        "        print(f'Example output: {gen_sample_output}')\n",
        ""
      ],
      "metadata": {
        "colab": {
          "base_uri": "https://localhost:8080/"
        },
        "id": "32yfDubT2Zq7",
        "outputId": "8ab64bbe-47e4-45bf-bb27-848d70b61bfb"
      },
      "execution_count": 47,
      "outputs": [
        {
          "output_type": "stream",
          "name": "stdout",
          "text": [
            "Example output: \n",
            "نباشم همیدون من او را نیا\n",
            "نجویم همی زین سخن کیمیا\n",
            "و دیگر که با اختر خوب چهر\n",
            "همی نو کنم بخشش و داد و مهر\n",
            "Example output: \n",
            "به شادی و انده نگردد دگر\n",
            "برین نیست پیکار با دادگر\n",
            "چو افراسیاب آن ببیند بخواب\n",
            "ببر بر نباشد مرا جای خواب\n",
            "Example output: \n",
            "نشسته برو شهریاری چو ماه\n",
            "یکی تاج بر سر به جای کلاه\n",
            "سپهدار نوذر گو را بدید\n",
            "سپهبد پذیره شد و تاج دید\n",
            "Example output: \n",
            "بباید بریدن سر خویش پست\n",
            "بخون غرقه کردن بر و یال و دست\n",
            "بگردن نهادن بجنگ منست\n",
            "ببالای او در جهان کام منست\n",
            "Example output: \n",
            "به نزد بزرگان ایرانیان\n",
            "نوشتن همین نامه بر پرنیان\n",
            "نوشته به چینی پرند آن زمان\n",
            "فرستاد خاقان سوی آسمان\n",
            "Example output: \n",
            "کنون روز دادست بیداد شد\n",
            "سران را سر از کشتن آزاد شد\n",
            "چو بیدادگر شد ز گردان سپهر\n",
            "برفتند گردان پرخاشخر\n",
            "Example output: \n",
            "ز بیگانه پردخته کردند جای\n",
            "سگالش گرفتند هر گونه رای\n",
            "که تا شاه بهرام پیروزگر\n",
            "چنین تیزچنگ آیدش روز و شب\n",
            "Example output: \n",
            "سپهبد فرستاد نزدیک اوی\n",
            "سپاهی بلند اختر و رزمجوی\n",
            "سپاهی بیاورد پرمایه از\n",
            "ز زرینه و جامه های درم\n",
            "Example output: \n",
            "ز یک سو بیابان بی آب و نم\n",
            "کلات از دگر سوی و راه چرم\n",
            "چنین تا رسیدند نزدیک آب\n",
            "همی بود یک روز با آفتاب\n",
            "Example output: \n",
            "وزان روی زال سپهبد به راه\n",
            "سوی سیستان باز برد آن سپاه\n",
            "برفتند یاران شاه اردشیر\n",
            "همه کامها گشت چون کوه و تیر\n",
            "Example output: \n",
            "چو نیمی گذشت از شب دیریاز\n",
            "دلیران به رفتن گرفتند ساز\n",
            "دلیران گردنکشان از درنگ\n",
            "چو شیر اندر آمد سر و ترگ و تیغ\n",
            "Example output: \n",
            "همان نیز یاد گنهکار مرد\n",
            "نباشی به بازار ننگ و نبرد\n",
            "چو شب تیره شد گردش هور و ماه\n",
            "ستاره پدید آمد از چرخ ماه\n",
            "Example output: \n",
            "بران استخوان بر نگاریده پاک\n",
            "نبینی به شهر اندرون گرد و خاک\n",
            "بدو گفت بهرام کای تاجور\n",
            "بدین پیرفرخنده بر\n",
            "Example output: \n",
            "از ایدر بران سان شوم سوی جنگ\n",
            "بدانگه کجا پای دارد نهنگ\n",
            "چو بشنید خراد برزین دوید\n",
            "به نزدیک پور سیاوش دوید\n",
            "Example output: \n",
            "چنین راند برسر سپهر بلند\n",
            "که آید زمن درد ورنج و گزند\n",
            "مرا زین جهان دادگر یار باد\n",
            "برین پند من باش و هم خوار باد\n",
            "Example output: \n",
            "خود و سرکشان سوی جیحون کشید\n",
            "همی دامن از چشم در خون کشید\n",
            "چو از قلب خسرو برون شد سپاه\n",
            "برآمد پر از ناله و رزمگاه\n",
            "Example output: \n",
            "چنین داد پاسخ که چرخ بلند\n",
            "دلم کرد پردرد و جانم نژند\n",
            "برین کوه سربردمندی مرا\n",
            "بدشمن سپردی همی زیستی مرا\n",
            "Example output: \n",
            "ببردند چیزی که شایسته بود\n",
            "همان پیش پرموده بایسته بود\n",
            "بیاورد چندی ز ایران نثار\n",
            "ببخشید بر شاه سیصد سوار\n",
            "Example output: \n",
            "سه یک زان نخستین بدرویش داد\n",
            "پرستندگان را درم بیش داد\n",
            "که آن را خورش هر چه بد در خورش\n",
            "بدید از پیی و آن پرورش\n",
            "Example output: \n",
            "گر ایدونک با من تو پیمان کنی\n",
            "شناسم که پیان من مشکنی\n",
            "چو دستان پیش منذر بگفت\n",
            "برسم کیان گشت با خاک جفت\n"
          ]
        }
      ]
    },
    {
      "cell_type": "code",
      "source": [
        "import math\n",
        "\n",
        "model.eval()\n",
        "\n",
        "total_eval_loss = 0\n",
        "total_tokens = 0\n",
        "\n",
        "for batch in tqdm(validation_dataloader, total=len(validation_dataloader), position=0):\n",
        "    b_input_ids = batch[0].to(device)\n",
        "    b_labels = batch[0].to(device)\n",
        "    b_masks = batch[1].to(device)\n",
        "\n",
        "    with torch.no_grad():\n",
        "        outputs = model(b_input_ids, attention_mask=b_masks, labels=b_labels)\n",
        "\n",
        "        loss = outputs.loss\n",
        "\n",
        "        num_tokens = torch.sum(b_masks).item()\n",
        "\n",
        "        total_tokens += num_tokens\n",
        "        total_eval_loss += loss.item() * num_tokens\n",
        "\n",
        "avg_eval_loss = total_eval_loss / total_tokens\n",
        "\n",
        "perplexity = math.exp(avg_eval_loss)\n",
        "print()\n",
        "print(f'Perplexity on validation data: {perplexity}')"
      ],
      "metadata": {
        "colab": {
          "base_uri": "https://localhost:8080/"
        },
        "id": "_3HyMOVo5h5S",
        "outputId": "b25437e3-167d-49c6-8085-43497eaed9b5"
      },
      "execution_count": 50,
      "outputs": [
        {
          "output_type": "stream",
          "name": "stderr",
          "text": [
            "100%|██████████| 156/156 [00:07<00:00, 21.45it/s]"
          ]
        },
        {
          "output_type": "stream",
          "name": "stdout",
          "text": [
            "\n",
            "Perplexity on validation data: 9.483074472145526\n"
          ]
        },
        {
          "output_type": "stream",
          "name": "stderr",
          "text": [
            "\n"
          ]
        }
      ]
    }
  ]
}